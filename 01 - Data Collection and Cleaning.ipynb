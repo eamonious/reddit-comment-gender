{
 "cells": [
  {
   "cell_type": "code",
   "execution_count": 173,
   "metadata": {},
   "outputs": [],
   "source": [
    "import numpy as np\n",
    "import pandas as pd\n",
    "import requests\n",
    "import seaborn as sns\n",
    "import time\n",
    "import matplotlib.pyplot as plt\n",
    "from bs4 import BeautifulSoup\n",
    "\n",
    "%matplotlib inline"
   ]
  },
  {
   "cell_type": "markdown",
   "metadata": {},
   "source": [
    "### Proof of Concept"
   ]
  },
  {
   "cell_type": "code",
   "execution_count": 174,
   "metadata": {},
   "outputs": [],
   "source": [
    "#Using an open source Reddit API project called pushshift.io which allows one to loop over timeframes\n",
    "#to get more than just the 1000 most recent comments available, and also returns a list of dictionaries,\n",
    "#allowing easier conversion into pandas.  The dictionary keys for each comment are similar to the main Reddit API.\n",
    "\n",
    "#The url below calls for the most recent 1000 comments from threads on r/AskMen.\n",
    "url = \"https://api.pushshift.io/reddit/search/comment/?subreddit=askmen&sort=des&size=1000\""
   ]
  },
  {
   "cell_type": "code",
   "execution_count": 175,
   "metadata": {},
   "outputs": [
    {
     "data": {
      "text/plain": [
       "200"
      ]
     },
     "execution_count": 175,
     "metadata": {},
     "output_type": "execute_result"
    }
   ],
   "source": [
    "headers = {'User-agent': 'eamonious'}\n",
    "res = requests.get(url, headers=headers)\n",
    "res.status_code"
   ]
  },
  {
   "cell_type": "code",
   "execution_count": 176,
   "metadata": {},
   "outputs": [],
   "source": [
    "json = res.json()\n",
    "comments = pd.DataFrame(json['data'])"
   ]
  },
  {
   "cell_type": "code",
   "execution_count": 177,
   "metadata": {},
   "outputs": [
    {
     "data": {
      "text/plain": [
       "Index(['author', 'author_cakeday', 'author_flair_background_color',\n",
       "       'author_flair_css_class', 'author_flair_richtext',\n",
       "       'author_flair_template_id', 'author_flair_text',\n",
       "       'author_flair_text_color', 'author_flair_type', 'author_fullname',\n",
       "       'author_patreon_flair', 'body', 'created_utc', 'distinguished',\n",
       "       'gildings', 'id', 'link_id', 'no_follow', 'parent_id', 'permalink',\n",
       "       'retrieved_on', 'score', 'send_replies', 'stickied', 'subreddit',\n",
       "       'subreddit_id'],\n",
       "      dtype='object')"
      ]
     },
     "execution_count": 177,
     "metadata": {},
     "output_type": "execute_result"
    }
   ],
   "source": [
    "comments.columns"
   ]
  },
  {
   "cell_type": "markdown",
   "metadata": {},
   "source": [
    "Features we are interested in: \n",
    "- body: raw text of the comment\n",
    "- created_utc: timestamp of the comment\n",
    "- id: comment unique id\n",
    "- link_id: contains slug for the parent thread. could be useful.\n",
    "- parent_id: unique id of parent comment (or thread id for 1st tier comments). I can use to identify first tier comments.\n",
    "- score: comment upvote total\n",
    "- subreddit: subreddit comment was in.  this will be the target."
   ]
  },
  {
   "cell_type": "code",
   "execution_count": 178,
   "metadata": {},
   "outputs": [],
   "source": [
    "#Removes all unnecessary features\n",
    "comments = comments[['body','created_utc','id','link_id','parent_id','score','subreddit']]"
   ]
  },
  {
   "cell_type": "markdown",
   "metadata": {},
   "source": [
    "For my project, I have chosen the subreddits r/AskMen and r/AskWomen.  The way these subreddits work is people make threads in which they ask a question looking for answers from only male or only female redditors, respectively.  So we can expect the first tier comments in each thread to be from men or women, respectively.  What I am interested in is trying to classify these first tier comments as (Man answering question in AskMen) vs. (Woman answering question in AskWomen).  Accordingly, we only want to look at first-tier comments, i.e.; direct replies to thread.  Later responses may be from either gender.  We can filter for this using the 'parent_id' feature.  First tier comments all begin with 't3_' followed by a thread id, as opposed to a comment id."
   ]
  },
  {
   "cell_type": "code",
   "execution_count": 179,
   "metadata": {},
   "outputs": [],
   "source": [
    "#Drops all comments that are not in the first tier, i.e.; direct responses to the original post.\n",
    "comments['parent_id'] = comments['parent_id'].map(lambda x: x if 't3_' in x else 0)\n",
    "comments = comments[comments['parent_id']!=0]"
   ]
  },
  {
   "cell_type": "code",
   "execution_count": 180,
   "metadata": {
    "scrolled": true
   },
   "outputs": [
    {
     "data": {
      "text/plain": [
       "358"
      ]
     },
     "execution_count": 180,
     "metadata": {},
     "output_type": "execute_result"
    }
   ],
   "source": [
    "len(comments)"
   ]
  },
  {
   "cell_type": "markdown",
   "metadata": {},
   "source": [
    "Based on experimentation, it looks like the percentage of every 1000 comments that are first tier comments is approximately the same in AskMen and AskWomen, so the classes should remain roughly balanced."
   ]
  },
  {
   "cell_type": "code",
   "execution_count": 181,
   "metadata": {},
   "outputs": [
    {
     "data": {
      "text/html": [
       "<div>\n",
       "<style scoped>\n",
       "    .dataframe tbody tr th:only-of-type {\n",
       "        vertical-align: middle;\n",
       "    }\n",
       "\n",
       "    .dataframe tbody tr th {\n",
       "        vertical-align: top;\n",
       "    }\n",
       "\n",
       "    .dataframe thead th {\n",
       "        text-align: right;\n",
       "    }\n",
       "</style>\n",
       "<table border=\"1\" class=\"dataframe\">\n",
       "  <thead>\n",
       "    <tr style=\"text-align: right;\">\n",
       "      <th></th>\n",
       "      <th>body</th>\n",
       "      <th>created_utc</th>\n",
       "      <th>id</th>\n",
       "      <th>link_id</th>\n",
       "      <th>parent_id</th>\n",
       "      <th>score</th>\n",
       "      <th>subreddit</th>\n",
       "    </tr>\n",
       "  </thead>\n",
       "  <tbody>\n",
       "    <tr>\n",
       "      <th>1</th>\n",
       "      <td>I love all the marvel movies and am not very p...</td>\n",
       "      <td>1545250190</td>\n",
       "      <td>ec4tzcw</td>\n",
       "      <td>t3_a7od5g</td>\n",
       "      <td>t3_a7od5g</td>\n",
       "      <td>1</td>\n",
       "      <td>AskMen</td>\n",
       "    </tr>\n",
       "    <tr>\n",
       "      <th>2</th>\n",
       "      <td>Post a pic. I wanna see if you are telling the...</td>\n",
       "      <td>1545250177</td>\n",
       "      <td>ec4tys2</td>\n",
       "      <td>t3_a7p3gr</td>\n",
       "      <td>t3_a7p3gr</td>\n",
       "      <td>1</td>\n",
       "      <td>AskMen</td>\n",
       "    </tr>\n",
       "    <tr>\n",
       "      <th>5</th>\n",
       "      <td>The leader’s head on a platter.</td>\n",
       "      <td>1545250135</td>\n",
       "      <td>ec4twqs</td>\n",
       "      <td>t3_a7pwyi</td>\n",
       "      <td>t3_a7pwyi</td>\n",
       "      <td>1</td>\n",
       "      <td>AskMen</td>\n",
       "    </tr>\n",
       "    <tr>\n",
       "      <th>9</th>\n",
       "      <td>No, I'm an atheist, and my view is that religi...</td>\n",
       "      <td>1545250126</td>\n",
       "      <td>ec4tw9c</td>\n",
       "      <td>t3_a7pwyi</td>\n",
       "      <td>t3_a7pwyi</td>\n",
       "      <td>1</td>\n",
       "      <td>AskMen</td>\n",
       "    </tr>\n",
       "    <tr>\n",
       "      <th>11</th>\n",
       "      <td>[removed]</td>\n",
       "      <td>1545250103</td>\n",
       "      <td>ec4tv4e</td>\n",
       "      <td>t3_a7ptmf</td>\n",
       "      <td>t3_a7ptmf</td>\n",
       "      <td>1</td>\n",
       "      <td>AskMen</td>\n",
       "    </tr>\n",
       "  </tbody>\n",
       "</table>\n",
       "</div>"
      ],
      "text/plain": [
       "                                                 body  created_utc       id  \\\n",
       "1   I love all the marvel movies and am not very p...   1545250190  ec4tzcw   \n",
       "2   Post a pic. I wanna see if you are telling the...   1545250177  ec4tys2   \n",
       "5                     The leader’s head on a platter.   1545250135  ec4twqs   \n",
       "9   No, I'm an atheist, and my view is that religi...   1545250126  ec4tw9c   \n",
       "11                                          [removed]   1545250103  ec4tv4e   \n",
       "\n",
       "      link_id  parent_id  score subreddit  \n",
       "1   t3_a7od5g  t3_a7od5g      1    AskMen  \n",
       "2   t3_a7p3gr  t3_a7p3gr      1    AskMen  \n",
       "5   t3_a7pwyi  t3_a7pwyi      1    AskMen  \n",
       "9   t3_a7pwyi  t3_a7pwyi      1    AskMen  \n",
       "11  t3_a7ptmf  t3_a7ptmf      1    AskMen  "
      ]
     },
     "execution_count": 181,
     "metadata": {},
     "output_type": "execute_result"
    }
   ],
   "source": [
    "comments.head()"
   ]
  },
  {
   "cell_type": "code",
   "execution_count": 182,
   "metadata": {
    "scrolled": true
   },
   "outputs": [
    {
     "data": {
      "image/png": "[encoded data removed]",
      "text/plain": [
       "<Figure size 432x288 with 1 Axes>"
      ]
     },
     "metadata": {},
     "output_type": "display_data"
    }
   ],
   "source": [
    "#Shows a distribution of the word length of comments (greater than 99 excluded)\n",
    "comments['body'].map(lambda x: len(x.split(' '))).hist(range=(1,101),bins=50);"
   ]
  },
  {
   "cell_type": "markdown",
   "metadata": {},
   "source": [
    "It may be desirable to remove comments with, say, 4 words or fewer, as these may not be very meaningful to classify.  But I'm not certain.  Some one or two word comments could actually classify well."
   ]
  },
  {
   "cell_type": "markdown",
   "metadata": {},
   "source": [
    "### Construction of For Loop"
   ]
  },
  {
   "cell_type": "markdown",
   "metadata": {},
   "source": [
    "Reddit limits you to grabbing 1000 comments at a time, and this extends to the pushshift.io API as well.  To collect more than 1000 comments, and also to reflect a wider variety of timeframes than simply the last few days, I will use a feature in the pushshift.io API that allows you to query based on a before and after timestamp.  \n",
    "\n",
    "I am going to use the before feature and collect the 1000 most recent comments in the subreddit at 12 day intervals.  I chose 12 days because it will quickly give me a variety of times of month, days of week, etc., and it is a large enough gap that all comments will certainly be new and I will be able to cover a full year's worth of time at least to catch all seasons.  \n",
    "\n",
    "The API uses the epoch timestamp, a numerical representation.  12 days corresponds to 1036800.  What I will do is use an initial timestamp from this week and then subtract 1036800 from it in each request, collecting comments further and further back in time and appending them until I have collected 30000 comments from the AskMen subreddit.  I will then do the same thing for AskWomen."
   ]
  },
  {
   "cell_type": "markdown",
   "metadata": {},
   "source": [
    "AskMen Data Grab:"
   ]
  },
  {
   "cell_type": "code",
   "execution_count": 183,
   "metadata": {},
   "outputs": [],
   "source": [
    "url = \"https://api.pushshift.io/reddit/search/comment/?subreddit=askmen&before=1545243580&sort=des&size=1000\"\n",
    "headers = {'User-agent': 'eamonious'}\n",
    "res = requests.get(url, headers=headers)\n",
    "json = res.json()\n",
    "comments = pd.DataFrame(json['data'])\n",
    "comments = comments[['body','created_utc','id','link_id','parent_id','score','subreddit']]\n",
    "comments['parent_id'] = comments['parent_id'].map(lambda x: x if 't3_' in x else 0)\n",
    "comments = comments[comments['parent_id']!=0]\n",
    "comments = comments[comments['body']!='[removed]']"
   ]
  },
  {
   "cell_type": "code",
   "execution_count": 187,
   "metadata": {
    "scrolled": true
   },
   "outputs": [],
   "source": [
    "for i in range(1,80):\n",
    "    url = \"https://api.pushshift.io/reddit/search/comment/?subreddit=askmen&before={}&sort=des&size=1000\".format(1545243580 - i*1036800)\n",
    "    headers = {'User-agent': 'eamonious'}\n",
    "    res = requests.get(url, headers=headers)\n",
    "    json = res.json()\n",
    "    commentbloc = pd.DataFrame(json['data'])\n",
    "    commentbloc = commentbloc[['body','created_utc','id','link_id','parent_id','score','subreddit']]\n",
    "    commentbloc['parent_id'] = commentbloc['parent_id'].map(lambda x: x if 't3_' in x else 0)\n",
    "    commentbloc = commentbloc[commentbloc['parent_id']!=0]\n",
    "    commentbloc = commentbloc[commentbloc['body']!='[removed]']\n",
    "    comments = pd.concat([comments, commentbloc], ignore_index=True)\n"
   ]
  },
  {
   "cell_type": "code",
   "execution_count": 188,
   "metadata": {},
   "outputs": [
    {
     "data": {
      "text/plain": [
       "43774"
      ]
     },
     "execution_count": 188,
     "metadata": {},
     "output_type": "execute_result"
    }
   ],
   "source": [
    "len(comments)"
   ]
  },
  {
   "cell_type": "markdown",
   "metadata": {},
   "source": [
    "AskWomen Data Grab:"
   ]
  },
  {
   "cell_type": "code",
   "execution_count": 221,
   "metadata": {},
   "outputs": [],
   "source": [
    "url = \"https://api.pushshift.io/reddit/search/comment/?subreddit=askwomen&before=1545243580&sort=des&size=1000\"\n",
    "headers = {'User-agent': 'eamonious'}\n",
    "res = requests.get(url, headers=headers)\n",
    "json = res.json()\n",
    "commentsw = pd.DataFrame(json['data'])\n",
    "commentsw = commentsw[['body','created_utc','id','link_id','parent_id','score','subreddit']]\n",
    "commentsw['parent_id'] = commentsw['parent_id'].map(lambda x: x if 't3_' in x else 0)\n",
    "commentsw = commentsw[commentsw['parent_id']!=0]\n",
    "commentsw = commentsw[commentsw['body']!='[removed]']"
   ]
  },
  {
   "cell_type": "code",
   "execution_count": 222,
   "metadata": {},
   "outputs": [],
   "source": [
    "for i in range(1,80):\n",
    "    url = \"https://api.pushshift.io/reddit/search/comment/?subreddit=askwomen&before={}&sort=des&size=1000\".format(1545243580 - i*1036800)\n",
    "    headers = {'User-agent': 'eamonious'}\n",
    "    res = requests.get(url, headers=headers)\n",
    "    json = res.json()\n",
    "    commentbloc = pd.DataFrame(json['data'])\n",
    "    commentbloc = commentbloc[['body','created_utc','id','link_id','parent_id','score','subreddit']]\n",
    "    commentbloc['parent_id'] = commentbloc['parent_id'].map(lambda x: x if 't3_' in x else 0)\n",
    "    commentbloc = commentbloc[commentbloc['parent_id']!=0]\n",
    "    commentbloc = commentbloc[commentbloc['body']!='[removed]']\n",
    "    commentsw = pd.concat([commentsw, commentbloc], ignore_index=True)"
   ]
  },
  {
   "cell_type": "code",
   "execution_count": 223,
   "metadata": {},
   "outputs": [
    {
     "data": {
      "text/plain": [
       "41555"
      ]
     },
     "execution_count": 223,
     "metadata": {},
     "output_type": "execute_result"
    }
   ],
   "source": [
    "len(commentsw)"
   ]
  },
  {
   "cell_type": "code",
   "execution_count": 192,
   "metadata": {},
   "outputs": [],
   "source": [
    "comments.to_csv('askmen.csv')"
   ]
  },
  {
   "cell_type": "code",
   "execution_count": 224,
   "metadata": {},
   "outputs": [],
   "source": [
    "commentsw.to_csv('askwomen.csv')"
   ]
  },
  {
   "cell_type": "markdown",
   "metadata": {},
   "source": [
    "### Cleaning Away Mod Messages and Deleted Comments"
   ]
  },
  {
   "cell_type": "code",
   "execution_count": 283,
   "metadata": {},
   "outputs": [],
   "source": [
    "comments = pd.read_csv('askmen.csv')"
   ]
  },
  {
   "cell_type": "code",
   "execution_count": 258,
   "metadata": {},
   "outputs": [],
   "source": [
    "commentsw = pd.read_csv('askwomen.csv')"
   ]
  },
  {
   "cell_type": "markdown",
   "metadata": {},
   "source": [
    "AskWomen Cleaning"
   ]
  },
  {
   "cell_type": "code",
   "execution_count": 259,
   "metadata": {},
   "outputs": [],
   "source": [
    "commentsw.dropna(inplace=True)"
   ]
  },
  {
   "cell_type": "code",
   "execution_count": 260,
   "metadata": {},
   "outputs": [
    {
     "data": {
      "text/plain": [
       "[deleted]                                                                                                                                                                                                                                                                                                                                                                                                                                                                                                                                                                                                                                                                                                                                                                                                                                                                                                                                                                                                                                                                                                                                                                                                                                                                                                                                                                                                                                                                                                                        1467\n",
       "This post has been removed as questions are required to be descriptive and open-ended. The title to your post must be a descriptive question.\\r\\n\\r\\n* Questions that do not adequately state what is being asked are not descriptive.\\r\\n\\r\\n* Yes/no, Either/or, or options list questions are not open-ended. \\r\\n\\r\\n* Please leave your own response to the question as a comment rather than in the description or the question.\\r\\n\\r\\nAdditional Reminders:\\r\\n\\r\\n* If you are using uncommon or unusual terms or asking a question that many people will not understand without further explanation or definitions, please place these in the description. \\r\\n\\r\\n* Please remember that links require comprehensive summaries.\\r\\n\\r\\n* Askwomen is about receiving answers from the community, so please do not include your own reply/commentary in your title or body text. Details in the question or description about a personal situation which would lead your question to personal advice or to discussion of your response rather than individual responses to the question are not permitted.\\r\\n\\r\\n* Before reposting, please recheck to make sure that your post meets our [inclusivity guidelines](https://www.reddit.com/r/AskWomen/wiki/inclusivephrasing) and does not specify majority demographics.\\r\\n\\r\\nIf you have any questions about this moderation action, please message the moderators through the link on the sidebar or [here](https://reddit.com/message/compose?to=/r/AskWomen)      44\n",
       "This comment or post has been removed for seeking advice about a specific person or personal situation. Askwomen is about receiving answers from the community about their own opinions and experiences rather than seeking input on specific personal situations.\\r\\n\\r\\n* Personal/Life Advice: Try /r/askwomenadvice or /r/thegirlsurvivalguide.\\r\\n\\r\\n* Medical Advice: If you are seeking medical advice, please consult a physician or try /r/askdocs.\\r\\n\\r\\n* Legal Advice: Try /r/legaladvice.\\r\\n\\r\\n* Relationship Advice: Try /r/relationships.\\r\\n\\r\\n* Makeup or Skincare Advice: Try /r/makeupaddiction or /r/skincareaddiction.\\r\\n\\r\\n* Hair Advice: Try /r/hair or /r/fancyfollicles.\\r\\n\\r\\n* Fashion Advice: Try /r/femalefashionadvice or /r/malefashionadvice.\\r\\n\\r\\n* Birth Control Advice: Try /r/birthcontrol or /r/askdocs.\\r\\n\\r\\n* Gift Advice: Try /r/gifts.\\r\\n\\r\\n* Sex Advice: Try /r/sex.\\r\\n\\r\\n* Personal Pictures for review: Try /r/firstimpressions.\\r\\n\\r\\nPlease review the rules of any sub before you post there.\\r\\n\\r\\nIf you have any questions about this moderation action, please message the moderators through the link on the sidebar or [here](https://reddit.com/message/compose?to=/r/AskWomen)                                                                                                                                                                                                                                                                            39\n",
       "This comment or post has been removed as answers to common or recently asked questions can be found in the FAQ or through the search bar.\\r\\n\\r\\nIf you have any questions about this moderation action, please message the moderators through the link on the sidebar or [here](https://reddit.com/message/compose?to=/r/AskWomen)                                                                                                                                                                                                                                                                                                                                                                                                                                                                                                                                                                                                                                                                                                                                                                                                                                                                                                                                                                                                                                                                                                                                                                                                36\n",
       "Removed for seeking advice about a specific person or situation. Please try /r/askwomenadvice. If you have any questions, please message the moderators through the link on the sidebar.                                                                                                                                                                                                                                                                                                                                                                                                                                                                                                                                                                                                                                                                                                                                                                                                                                                                                                                                                                                                                                                                                                                                                                                                                                                                                                                                           13\n",
       "This post has been removed as questions are required to be descriptive and open-ended. The title to your post must be a descriptive question.\\r\\n\\r\\n* Questions that do not adequately state what is being asked are not descriptive.\\r\\n\\r\\n* Yes/no, Either/or, or options list questions are not open-ended. \\r\\n\\r\\n* Please leave your own response to the question as a comment rather than in the description or the question.\\r\\n\\r\\n* If you are using uncommon or unusual terms or asking a question that many people will not understand without further explanation or definitions, please place these in the description. Please remember that links require comprehensive summaries and that details about a personal situation which would lead your question to personal advice  are not permitted.\\r\\n\\r\\nIf you have any questions about this moderation action, please message the moderators through the link on the sidebar or [here](http://www.reddit.com/message/compose?to=%2Fr%2FAskWomen&amp;amp;amp;subject=&amp;amp;amp;message=)                                                                                                                                                                                                                                                                                                                                                                                                                                                                    12\n",
       "No.                                                                                                                                                                                                                                                                                                                                                                                                                                                                                                                                                                                                                                                                                                                                                                                                                                                                                                                                                                                                                                                                                                                                                                                                                                                                                                                                                                                                                                                                                                                                12\n",
       "Your submission has been removed because your title does not include a question mark. Please ensure your title is properly formatted to be a descriptive, open-ended question. \\r\\n\\r\\nIf you think you have received this message in error, please [message the moderators (CLICK HERE)](http://www.reddit.com/message/compose?to=%2Fr%2FAskWomen&amp;subject=\"My post was removed for lacking a question mark\"&amp;message=). Thanks.\\r\\n\\r\\n\\r\\n*I am a bot, and this action was performed automatically. Please [contact the moderators of this subreddit](/message/compose/?to=/r/AskWomen) if you have any questions or concerns.*                                                                                                                                                                                                                                                                                                                                                                                                                                                                                                                                                                                                                                                                                                                                                                                                                                                                                           10\n",
       "This comment or post has been removed as answers to common or recently asked questions can be found in the FAQ or through the search bar.\\r\\n\\r\\nIf you have any questions about this moderation action, please message the moderators through the link on the sidebar or [here](http://www.reddit.com/message/compose?to=%2Fr%2FAskWomen&amp;amp;subject=&amp;amp;message=)                                                                                                                                                                                                                                                                                                                                                                                                                                                                                                                                                                                                                                                                                                                                                                                                                                                                                                                                                                                                                                                                                                                                                       10\n",
       "This comment or post has been removed as today is Mate-Free Monday. No questions regarding relationships, attraction, or similar topics are permitted during Mate-Free Monday. Please see the stickied post on the /r/askwomen front page for more details. \\r\\n\\r\\nIf you have any questions about this moderation action, please message the moderators through the link on the sidebar or [here](http://www.reddit.com/message/compose?to=%2Fr%2FAskWomen&amp;amp;subject=&amp;amp;message=)                                                                                                                                                                                                                                                                                                                                                                                                                                                                                                                                                                                                                                                                                                                                                                                                                                                                                                                                                                                                                                     8\n",
       "This comment or post has been removed for seeking advice about a specific person or personal situation. \\r\\n\\r\\n* Personal/Life Advice: Try /r/askwomenadvice or /r/thegirlsurvivalguide.\\r\\n\\r\\n* Medical Advice: If you are seeking medical advice, please consult a physician or try /r/askdocs.\\r\\n\\r\\n* Legal Advice: Try /r/legaladvice.\\r\\n\\r\\n* Relationship Advice: Try /r/relationships.\\r\\n\\r\\n* Makeup or Skincare Advice: Try /r/makeupaddiction or /r/skincareaddiction.\\r\\n\\r\\n* Hair Advice: Try /r/hair or /r/fancyfollicles.\\r\\n\\r\\n* Fashion Advice: Try /r/femalefashionadvice or /r/malefashionadvice.\\r\\n\\r\\n* Birth Control Advice: Try /r/birthcontrol or /r/askdocs.\\r\\n\\r\\n* Gift Advice: Try /r/gifts.\\r\\n\\r\\n* Sex Advice: Try /r/sex.\\r\\n\\r\\n* Personal Pictures for review: Try /r/firstimpressions.\\r\\n\\r\\nPlease review the rules of any sub before you post there.\\r\\n\\r\\nIf you have any questions about this moderation action, please message the moderators through the link on the sidebar or [here](https://reddit.com/message/compose?to=/r/AskWomen)                                                                                                                                                                                                                                                                                                                                                                                                                                       7\n",
       "Yes.                                                                                                                                                                                                                                                                                                                                                                                                                                                                                                                                                                                                                                                                                                                                                                                                                                                                                                                                                                                                                                                                                                                                                                                                                                                                                                                                                                                                                                                                                                                                6\n",
       "Removed for including your response in the description instead of as a comment. If you edit, please let us know and it may be reinstated. If you have any questions, please message the moderators through the link on the sidebar.                                                                                                                                                                                                                                                                                                                                                                                                                                                                                                                                                                                                                                                                                                                                                                                                                                                                                                                                                                                                                                                                                                                                                                                                                                                                                                 6\n",
       "Removed as questions are required to be descriptive and open-ended. Questions that can be answered by yes or no are not allowed. If you have any questions, please message the moderators through the link on the sidebar.                                                                                                                                                                                                                                                                                                                                                                                                                                                                                                                                                                                                                                                                                                                                                                                                                                                                                                                                                                                                                                                                                                                                                                                                                                                                                                          6\n",
       "Your submission has been removed because:\\r\\n\\r\\nTitles must be descriptive and open-ended questions. Yes/no, either/or, and option list questions are not open-ended.\\r\\n\\r\\n\\r\\n**[Have questions about this moderator action? CLICK HERE!](http://www.reddit.com/message/compose/?to=/r/AskWomen&amp;subject=Why+was+this+removed?&amp;message=\\[My+submission\\]\\(https://www.reddit.com/r/AskWomen/comments/8t75cq/-/\\)+was+removed+and+I+do+not+understand+the+reason+given+by+the+mod+who+acted upon+it.)**    \\r\\n\\r\\n\\r\\n[AskWomen rules](/r/askwomen/w/rules) | [AskWomen FAQ](/r/askwomen/w/index)  \\r\\n[reddit rules](http://www.reddit.com/rules/) | [reddiquette](http://www.reddit.com/wiki/reddiquette)                                                                                                                                                                                                                                                                                                                                                                                                                                                                                                                                                                                                                                                                                                                                                                                                              6\n",
       "This comment or post has been removed for seeking advice about a specific person or personal situation. \\r\\n\\r\\n* Personal/Life Advice: Try /r/askwomenadvice or /r/thegirlsurvivalguide.\\r\\n\\r\\n* Medical Advice: If you are seeking medical advice, please consult a physician or try /r/askdocs.\\r\\n\\r\\n* Relationship Advice: Try /r/relationships.\\r\\n\\r\\n* Makeup or Skincare Advice: Try /r/makeupaddiction or /r/skincareaddiction.\\r\\n\\r\\n* Hair Advice: Try /r/hair or /r/fancyfollicles.\\r\\n\\r\\n* Fashion Advice: Try /r/femalefashionadvice or /r/malefashionadvice.\\r\\n\\r\\n* Birth Control Advice: Try /r/birthcontrol or /r/askdocs.\\r\\n\\r\\n* Gift Advice: Try /r/gifts.\\r\\n\\r\\n* Sex Advice: Try /r/sex.\\r\\n\\r\\n* Personal Pictures for review: Try /r/firstimpressions.\\r\\n\\r\\nPlease review the rules of any sub before you post there.\\r\\n\\r\\nIf you have any questions about this moderation action, please message the moderators through the link on the sidebar or [here](http://www.reddit.com/message/compose?to=%2Fr%2FAskWomen&amp;amp;amp;amp;amp;subject=&amp;amp;amp;amp;amp;message=)                                                                                                                                                                                                                                                                                                                                                                                                                 6\n",
       "This comment or post has been removed as answers to common questions can be found in the FAQ or through the search bar.\\r\\n\\r\\nIf you have any questions about this moderation action, please message the moderators through the link on the sidebar or [here](http://www.reddit.com/message/compose?to=%2Fr%2FAskWomen&amp;amp;subject=&amp;amp;message=)                                                                                                                                                                                                                                                                                                                                                                                                                                                                                                                                                                                                                                                                                                                                                                                                                                                                                                                                                                                                                                                                                                                                                                          5\n",
       "Nothing.                                                                                                                                                                                                                                                                                                                                                                                                                                                                                                                                                                                                                                                                                                                                                                                                                                                                                                                                                                                                                                                                                                                                                                                                                                                                                                                                                                                                                                                                                                                            5\n",
       "Never                                                                                                                                                                                                                                                                                                                                                                                                                                                                                                                                                                                                                                                                                                                                                                                                                                                                                                                                                                                                                                                                                                                                                                                                                                                                                                                                                                                                                                                                                                                               5\n",
       "Removed for seeking advice about a specific person or situation. If you have any questions, please message the moderators through the link on the sidebar.                                                                                                                                                                                                                                                                                                                                                                                                                                                                                                                                                                                                                                                                                                                                                                                                                                                                                                                                                                                                                                                                                                                                                                                                                                                                                                                                                                          5\n",
       "Please feel free to respond based on the genders that you find attractive. This question is not limited to women who date men.                                                                                                                                                                                                                                                                                                                                                                                                                                                                                                                                                                                                                                                                                                                                                                                                                                                                                                                                                                                                                                                                                                                                                                                                                                                                                                                                                                                                      5\n",
       "Nope.                                                                                                                                                                                                                                                                                                                                                                                                                                                                                                                                                                                                                                                                                                                                                                                                                                                                                                                                                                                                                                                                                                                                                                                                                                                                                                                                                                                                                                                                                                                               5\n",
       "No                                                                                                                                                                                                                                                                                                                                                                                                                                                                                                                                                                                                                                                                                                                                                                                                                                                                                                                                                                                                                                                                                                                                                                                                                                                                                                                                                                                                                                                                                                                                  5\n",
       "This comment or post has been removed for seeking advice about a specific person or personal situation. \\r\\n\\r\\n* Personal Advice: Try /r/askwomenadvice.\\r\\n\\r\\n* Medical Advice: If you are seeking medical advice, please consult a physician or try /r/askdocs.\\r\\n\\r\\n* Relationship Advice: Try /r/relationships.\\r\\n\\r\\n* Makeup or Skincare Advice: Try /r/makeupaddiction or /r/skincareaddiction.\\r\\n\\r\\n* Fashion Advice: Try /r/femalefashionadvice or /r/malefashionadvice.\\r\\n\\r\\n* Birth Control Advice: Try /r/birthcontrol or /r/askdocs.\\r\\n\\r\\n* Gift Advice: Try /r/gifts.\\r\\n\\r\\n* Sex Advice: Try /r/sex.\\r\\n\\r\\n* Personal Pictures for review: Try /r/firstimpressions.\\r\\n\\r\\nPlease review the rules of any sub before you post there.\\r\\n\\r\\nIf you have any questions about this moderation action, please message the moderators through the link on the sidebar or [here](http://www.reddit.com/message/compose?to=%2Fr%2FAskWomen&amp;amp;amp;amp;amp;subject=&amp;amp;amp;amp;amp;message=)                                                                                                                                                                                                                                                                                                                                                                                                                                                                                                         5\n",
       "This comment or post has been removed as today is Mate-Free Monday. No questions regarding relationships, attraction, or similar topics are permitted during Mate-Free Monday. Please see the stickied post on the /r/askwomen front page for more details. \\r\\n\\r\\nIf you have any questions about this moderation action, please message the moderators through the link on the sidebar or [here](https://reddit.com/message/compose?to=/r/AskWomen)                                                                                                                                                                                                                                                                                                                                                                                                                                                                                                                                                                                                                                                                                                                                                                                                                                                                                                                                                                                                                                                                              5\n",
       "Removed as today is mate-attraction-relationship-free Monday. If you have any questions, please message the moderators through the link on the sidebar.                                                                                                                                                                                                                                                                                                                                                                                                                                                                                                                                                                                                                                                                                                                                                                                                                                                                                                                                                                                                                                                                                                                                                                                                                                                                                                                                                                             5\n",
       "Removed as we do not allow simple yes/no/DAE questions. if you expand in your post body it may be reinstated.                                                                                                                                                                                                                                                                                                                                                                                                                                                                                                                                                                                                                                                                                                                                                                                                                                                                                                                                                                                                                                                                                                                                                                                                                                                                                                                                                                                                                       5\n",
       "\\[removed\\]                                                                                                                                                                                                                                                                                                                                                                                                                                                                                                                                                                                                                                                                                                                                                                                                                                                                                                                                                                                                                                                                                                                                                                                                                                                                                                                                                                                                                                                                                                                         4\n",
       "I don't.                                                                                                                                                                                                                                                                                                                                                                                                                                                                                                                                                                                                                                                                                                                                                                                                                                                                                                                                                                                                                                                                                                                                                                                                                                                                                                                                                                                                                                                                                                                            4\n",
       "Hello Bella-7. Thank you for participating in /r/AskWomen. However, your submission has been removed, because we do not allow personal advice or evaluation submissions. \\r\\n\\r\\nYou can always go to /r/askwomenadvice, /r/relationships for romantic/non-romantic relationship advice, /r/legaladvice for legal advice, /r/femalefashionadvice for fashion advice, /r/skincareaddiction for skin care advice, or /r/findareddit if you dont know where else to go.  Please remember to read the rules of any subreddit you go to.  \\r\\n\\r\\nIf you think you received this message in error, please [message the moderators (CLICK HERE)](http://www.reddit.com/message/compose?to=%2Fr%2FAskWomen&amp;subject=\"My post was removed for personal advice\"&amp;message=). Thanks.\\r\\n\\r\\n*I am a bot, and this action was performed automatically. Please [contact the moderators of this subreddit](/message/compose/?to=/r/AskWomen) if you have any questions or concerns.*                                                                                                                                                                                                                                                                                                                                                                                                                                                                                                                                                       4\n",
       "No.                                                                                                                                                                                                                                                                                                                                                                                                                                                                                                                                                                                                                                                                                                                                                                                                                                                                                                                                                                                                                                                                                                                                                                                                                                                                                                                                                                                                                                                                                                                                 4\n",
       "This comment or post has been removed for seeking advice about a specific person or personal situation. For personal advice, please try /r/askwomenadvice.\\r\\n\\r\\nIf you have any questions about this moderation action, please message the moderators through the link on the sidebar or [here](http://www.reddit.com/message/compose?to=%2Fr%2FAskWomen&amp;amp;subject=&amp;amp;message=)                                                                                                                                                                                                                                                                                                                                                                                                                                                                                                                                                                                                                                                                                                                                                                                                                                                                                                                                                                                                                                                                                                                                       4\n",
       "Nope.                                                                                                                                                                                                                                                                                                                                                                                                                                                                                                                                                                                                                                                                                                                                                                                                                                                                                                                                                                                                                                                                                                                                                                                                                                                                                                                                                                                                                                                                                                                               4\n",
       "I don't.                                                                                                                                                                                                                                                                                                                                                                                                                                                                                                                                                                                                                                                                                                                                                                                                                                                                                                                                                                                                                                                                                                                                                                                                                                                                                                                                                                                                                                                                                                                            4\n",
       "It is an [AskWomen policy](https://www.reddit.com/r/AskWomen/wiki/rules) that questions on our sub should not be directed only to majority demographics (e.g. straight people, white people, Americans, etc).\\r\\n\\r\\nPlease consider using more inclusive language in future questions, and we encourage our users who may feel implicitly excluded by the question wording to respond in this thread as though the wording also applied to them.\\r\\n\\r\\n**[Click here if you would like to discuss moderation. Messages in reply to this moderator note will be removed for derailing.](http://www.reddit.com/message/compose/?to=/r/AskWomen&amp;subject=Why+was+this+removed?&amp;message=\\[My+comment\\]\\(https://www.reddit.com/r/AskWomen/comments/8p61e8/-/e09p62o/\\)+was+removed+and+I+do+not+understand+the+reason+given+by+the+mod+who+acted upon+it.)**                                                                                                                                                                                                                                                                                                                                                                                                                                                                                                                                                                                                                                                                   3\n",
       "Yes                                                                                                                                                                                                                                                                                                                                                                                                                                                                                                                                                                                                                                                                                                                                                                                                                                                                                                                                                                                                                                                                                                                                                                                                                                                                                                                                                                                                                                                                                                                                 3\n",
       "Not at all.                                                                                                                                                                                                                                                                                                                                                                                                                                                                                                                                                                                                                                                                                                                                                                                                                                                                                                                                                                                                                                                                                                                                                                                                                                                                                                                                                                                                                                                                                                                         3\n",
       "Your submission has been removed because:\\r\\n\\r\\nCommon questions can be answered via search bar or FAQ ( /r/askwomen/w/index ).\\r\\n\\r\\n\\r\\n\\r\\n**[Have questions about this moderator action? CLICK HERE!](http://www.reddit.com/message/compose/?to=/r/AskWomen&amp;subject=Why+was+this+removed?&amp;message=\\[My+submission\\]\\(https://www.reddit.com/r/AskWomen/comments/a41qhf/-/\\)+was+removed+and+I+do+not+understand+the+reason+given+by+the+mod+who+acted upon+it.)**    \\r\\n\\r\\n\\r\\n[AskWomen rules](/r/askwomen/w/rules) | [AskWomen FAQ](/r/askwomen/w/index)  \\r\\n[reddit rules](http://www.reddit.com/rules/) | [reddiquette](http://www.reddit.com/wiki/reddiquette)                                                                                                                                                                                                                                                                                                                                                                                                                                                                                                                                                                                                                                                                                                                                                                                                                                                3\n",
       "Reddit                                                                                                                                                                                                                                                                                                                                                                                                                                                                                                                                                                                                                                                                                                                                                                                                                                                                                                                                                                                                                                                                                                                                                                                                                                                                                                                                                                                                                                                                                                                              3\n",
       "Try askwomenadvice                                                                                                                                                                                                                                                                                                                                                                                                                                                                                                                                                                                                                                                                                                                                                                                                                                                                                                                                                                                                                                                                                                                                                                                                                                                                                                                                                                                                                                                                                                                  3\n",
       "Hello Melthengylf. Thank you for participating in /r/AskWomen. However, your submission has been removed, because we do not allow personal advice or evaluation submissions. \\r\\n\\r\\nYou can always go to /r/askwomenadvice, /r/relationships for romantic/non-romantic relationship advice, /r/legaladvice for legal advice, /r/femalefashionadvice for fashion advice, /r/skincareaddiction for skin care advice, or /r/findareddit if you dont know where else to go.  Please remember to read the rules of any subreddit you go to.  \\r\\n\\r\\nIf you think you received this message in error, please [message the moderators (CLICK HERE)](http://www.reddit.com/message/compose?to=%2Fr%2FAskWomen&amp;subject=\"My post was removed for personal advice\"&amp;message=). Thanks.\\r\\n\\r\\n*I am a bot, and this action was performed automatically. Please [contact the moderators of this subreddit](/message/compose/?to=/r/AskWomen) if you have any questions or concerns.*                                                                                                                                                                                                                                                                                                                                                                                                                                                                                                                                                   3\n",
       "Your submission has been removed because:\\r\\n\\r\\nTitles must be descriptive and open-ended questions. Yes/no, either/or, and option list questions are not open-ended.\\r\\n\\r\\n\\r\\n\\r\\n**[Have questions about this moderator action? CLICK HERE!](http://www.reddit.com/message/compose/?to=/r/AskWomen&amp;subject=Why+was+this+removed?&amp;message=\\[My+submission\\]\\(https://old.reddit.com/r/AskWomen/comments/9xybrk/-/\\)+was+removed+and+I+do+not+understand+the+reason+given+by+the+mod+who+acted upon+it.)**    \\r\\n\\r\\n\\r\\n[AskWomen rules](/r/askwomen/w/rules) | [AskWomen FAQ](/r/askwomen/w/index)  \\r\\n[reddit rules](http://www.reddit.com/rules/) | [reddiquette](http://www.reddit.com/wiki/reddiquette)                                                                                                                                                                                                                                                                                                                                                                                                                                                                                                                                                                                                                                                                                                                                                                                                          3\n",
       "Never.                                                                                                                                                                                                                                                                                                                                                                                                                                                                                                                                                                                                                                                                                                                                                                                                                                                                                                                                                                                                                                                                                                                                                                                                                                                                                                                                                                                                                                                                                                                              3\n",
       "This post has been removed as questions are required to be descriptive and open-ended. \\r\\n\\r\\nQuestions that do not adequately state what is being asked are not descriptive.\\r\\n\\r\\nYes/no, Either/or, or options list questions are not open-ended. \\r\\n\\r\\nIf you have any questions about this moderation action, please message the moderators through the link on the sidebar or [here](http://www.reddit.com/message/compose?to=%2Fr%2FAskWomen&amp;amp;subject=&amp;amp;message=)                                                                                                                                                                                                                                                                                                                                                                                                                                                                                                                                                                                                                                                                                                                                                                                                                                                                                                                                                                                                                                          3\n",
       "None.                                                                                                                                                                                                                                                                                                                                                                                                                                                                                                                                                                                                                                                                                                                                                                                                                                                                                                                                                                                                                                                                                                                                                                                                                                                                                                                                                                                                                                                                                                                               3\n",
       "Name: body, dtype: int64"
      ]
     },
     "execution_count": 260,
     "metadata": {},
     "output_type": "execute_result"
    }
   ],
   "source": [
    "commentsw['body'].value_counts()[0:45]"
   ]
  },
  {
   "cell_type": "markdown",
   "metadata": {},
   "source": [
    "Below, I remove mod comment removals by filtering for certain typifying language.  I also remove deleted comments."
   ]
  },
  {
   "cell_type": "code",
   "execution_count": 261,
   "metadata": {},
   "outputs": [],
   "source": [
    "commentsw['body'] = commentsw['body'].map(lambda x: 0 if 'has been removed' in x else x)"
   ]
  },
  {
   "cell_type": "code",
   "execution_count": 262,
   "metadata": {},
   "outputs": [],
   "source": [
    "commentsw = commentsw[commentsw['body']!='[deleted]']"
   ]
  },
  {
   "cell_type": "code",
   "execution_count": 263,
   "metadata": {},
   "outputs": [],
   "source": [
    "commentsw['body'] = commentsw['body'].map(lambda x: 0 if 'emoved' in str(x)[0:10] else x)"
   ]
  },
  {
   "cell_type": "code",
   "execution_count": 264,
   "metadata": {},
   "outputs": [],
   "source": [
    "commentsw['body'] = commentsw['body'].map(lambda x: 0 if 'AskWomen' in str(x) else x)"
   ]
  },
  {
   "cell_type": "code",
   "execution_count": 265,
   "metadata": {},
   "outputs": [],
   "source": [
    "commentsw = commentsw[commentsw['body']!=0]"
   ]
  },
  {
   "cell_type": "code",
   "execution_count": 266,
   "metadata": {},
   "outputs": [],
   "source": [
    "commentsw.to_csv('askwomen_cleaned')"
   ]
  },
  {
   "cell_type": "markdown",
   "metadata": {},
   "source": [
    "AskMen Cleaning"
   ]
  },
  {
   "cell_type": "code",
   "execution_count": 284,
   "metadata": {},
   "outputs": [
    {
     "data": {
      "text/plain": [
       "[deleted]                                                                                                                                                                                                                                                                                                                                                                                                                                                                                                                                                                                                                                                                                                                                                                                                                                                                                                                                                                                                                                                                                      1214\n",
       "Your question has been removed by an automatic filter. This could be for a number of reasons: (1) your post is a yes or no question, (2) your post could be answered in one word, (3) you did not post an actual question in the title, (4) your question is incomprehensible and the filter did not recognize it as an actual question.\\r\\nREGARDLESS OF WHETHER YOU THINK THIS MESSAGE IS IN ERROR, 95% OF THE TIME IT IS NOT. READ THE SIDEBAR BEFORE MESSAGING US TO APPEAL. If you have re-read your question, re-read the sidebar, and still believe that this is a failure of our automatic filter (it's just a computer), then message us with BOTH a link to this post (DO NOT DELETE IT OR WE CANNOT SEE IT) and your reasoning as to WHY IT DOES NOT VIOLATE OUR RULES.\\r\\nCaps are for emphasis. Excuse the abrasive approach - most of our mod messages are because of this filter.\\r\\n\\r\\n*I am a bot, and this action was performed automatically. Please [contact the moderators of this subreddit](/message/compose/?to=/r/AskMen) if you have any questions or concerns.*     212\n",
       "Your question has been removed by a computer. This could be for a number of reasons: (1) your post can be answered in one word, (2) you did not post an actual question in the title, (3) your grammar is so bad that the computer could not recognize your question. IN MOST OF THESE CASES, THE COMPUTER IS RIGHT, AND WE WILL NOT OVERTURN ITS DECISION. If you have re-read your question, re-read the sidebar, and still believe that this is a failure of our automatic filter, message us to appeal WITH AN ACTUAL REASON AS TO WHY THE COMPUTER IS WRONG.\\r\\n\\r\\n*I am a bot, and this action was performed automatically. Please [contact the moderators of this subreddit](/message/compose/?to=/r/AskMen) if you have any questions or concerns.*                                                                                                                                                                                                                                                                                                                                    195\n",
       "Your question has been removed by an automatic filter. This could be because: (1) your post is a yes or no question, (2) your post could be answered in one word, (3) you did not post an actual question in the title, (4) your question is incomprehensible.\\r\\nREGARDLESS OF WHETHER YOU THINK THIS MESSAGE IN IN ERROR, 95% OF THE TIME IT IS NOT. READ THE SIDEBAR AND [THIS POST](https://redd.it/41pzm2) BEFORE YOU ASK US FOR APPROVAL.\\r\\n\\r\\n*I am a bot, and this action was performed automatically. Please [contact the moderators of this subreddit](/message/compose/?to=/r/AskMen) if you have any questions or concerns.*                                                                                                                                                                                                                                                                                                                                                                                                                                                      144\n",
       "Your post has been flagged as trying to figure out a specific person's or group of people's actions or thinking. **If you think this action was made in error, [message our moderators](http://www.reddit.com/message/compose?to=%2Fr%2FAskMen) with a link to the post for approval.**\\r\\n\\r\\n*I am a bot, and this action was performed automatically. Please [contact the moderators of this subreddit](/message/compose/?to=/r/AskMen) if you have any questions or concerns.*                                                                                                                                                                                                                                                                                                                                                                                                                                                                                                                                                                                                               72\n",
       "Your question has been removed because we do not allow yes or no questions. Even if you suspect this message is in error, chances are if you triggered this filter, your post still violates one of our rules. **READ THE SIDEBAR** and please see [THIS POST](https://redd.it/41pzm2) for more information.\\r\\n\\r\\n*I am a bot, and this action was performed automatically. Please [contact the moderators of this subreddit](/message/compose/?to=/r/AskMen) if you have any questions or concerns.*                                                                                                                                                                                                                                                                                                                                                                                                                                                                                                                                                                                          65\n",
       "Please message the mods for approval on this question, or search to find similar threads. Actually, search first, then message us.\\r\\n\\r\\n*I am a bot, and this action was performed automatically. Please [contact the moderators of this subreddit](/message/compose/?to=/r/AskMen) if you have any questions or concerns.*                                                                                                                                                                                                                                                                                                                                                                                                                                                                                                                                                                                                                                                                                                                                                                    59\n",
       "Please [message the mods](http://www.reddit.com/message/compose?to=%2Fr%2FAskMen) for approval on this question, or search to find similar threads. Thanks.\\r\\n\\r\\n*I am a bot, and this action was performed automatically. Please [contact the moderators of this subreddit](/message/compose/?to=/r/AskMen) if you have any questions or concerns.*                                                                                                                                                                                                                                                                                                                                                                                                                                                                                                                                                                                                                                                                                                                                           48\n",
       "The computer flagged this as a frequently asked question. Use the search bar.\\r\\n\\r\\n*I am a bot, and this action was performed automatically. Please [contact the moderators of this subreddit](/message/compose/?to=/r/AskMen) if you have any questions or concerns.*                                                                                                                                                                                                                                                                                                                                                                                                                                                                                                                                                                                                                                                                                                                                                                                                                         44\n",
       "Your question has been removed by a general automated filter. This could be for one of many reasons: (1) your post is a yes or no question; (2) your post could be answered with one word answers; (3) you did not post A COMPLETE, ACTUAL QUESTION in your title; (4) your grammar/spelling/phrasing was incomprehensible. REGARDLESS OF WHETHER YOU THINK THIS MESSAGE IS IN ERROR, 95% OF THE TIME, IT IS NOT. Please check that **your post has an actual, complete question, that you have read the sidebar rules, and [this post](https://redd.it/41pzm2) before you message us asking for approval**.\\r\\n\\r\\n*I am a bot, and this action was performed automatically. Please [contact the moderators of this subreddit](/message/compose/?to=/r/AskMen) if you have any questions or concerns.*                                                                                                                                                                                                                                                                                          41\n",
       "Your question has been removed because we do not allow yes or no questions. Also check that your title is a complete, ACTUAL QUESTION that can't be answered with a yes or no. Even if you suspect this message is in error, chances are if you triggered this filter, your post still violates one of our rules. **READ THE SIDEBAR** and please see [THIS POST](https://redd.it/41pzm2) for more information.\\r\\n\\r\\n*I am a bot, and this action was performed automatically. Please [contact the moderators of this subreddit](/message/compose/?to=/r/AskMen) if you have any questions or concerns.*                                                                                                                                                                                                                                                                                                                                                                                                                                                                                       40\n",
       "Hi,\\r\\n\\r\\nYour post has been removed because it is a Frequently Asked Question.  If you haven't already, please consult the [Frequently Asked Questions](http://www.reddit.com/r/AskMen/wiki/index) page on our sidebar, and also do a search to find similar questions.\\r\\n\\r\\nThanks.                                                                                                                                                                                                                                                                                                                                                                                                                                                                                                                                                                                                                                                                                                                                                                                                         31\n",
       "Hi, your post has removed because we suspect you are trying to figure out a person's specific actions or thinking, or asking for guidance in a specific situation, which is prohibited.  If you have any questions, please feel free to [message the moderators](https://www.reddit.com/message/compose?to=%2Fr%2FAskMen)\\r\\n\\r\\nHave a nice day!                                                                                                                                                                                                                                                                                                                                                                                                                                                                                                                                                                                                                                                                                                                                                26\n",
       "Your post has been flagged as an overly negative or foreveralone post. **If you think this action was made in error, [message our moderators](http://www.reddit.com/message/compose?to=%2Fr%2FAskMen) with a link to the post for approval.**\\r\\n\\r\\n*I am a bot, and this action was performed automatically. Please [contact the moderators of this subreddit](/message/compose/?to=/r/AskMen) if you have any questions or concerns.*                                                                                                                                                                                                                                                                                                                                                                                                                                                                                                                                                                                                                                                         23\n",
       "We do not allow any gift posts on this subreddit. **If you think this was removed in error, please [message the moderators](http://www.reddit.com/message/compose?to=%2Fr%2FAskMen) with a link for approval.** Thanks!\\r\\n\\r\\n*I am a bot, and this action was performed automatically. Please [contact the moderators of this subreddit](/message/compose/?to=/r/AskMen) if you have any questions or concerns.*                                                                                                                                                                                                                                                                                                                                                                                                                                                                                                                                                                                                                                                                               20\n",
       "Hi,\\r\\n\\r\\nYour post has been removed because it is a Frequently Asked Question.  If you haven't already, try these steps to find similar questions:\\r\\n1.  Search for similar questions on /r/AskMen, using keywords from your request.\\r\\n2.  Consult the [Frequently Asked Questions](http://www.reddit.com/r/AskMen/wiki/index) page on our sidebar for a collection of a few of the most frequently asked topics here.\\r\\n\\r\\nThanks.                                                                                                                                                                                                                                                                                                                                                                                                                                                                                                                                                                                                                                                       16\n",
       "Your post has been flagged as a commonly asked topic here. [Please read our FAQ on this topic for our advice on this topic](http://www.reddit.com/r/AskMen/comments/1w0ay2/faq_friday_how_do_i_get_over_someone/). If you think this action was made in error, [message our moderators](http://www.reddit.com/message/compose?to=%2Fr%2FAskMen) with a link to the post for approval.\\r\\n\\r\\n*I am a bot, and this action was performed automatically. Please [contact the moderators of this subreddit](/message/compose/?to=/r/AskMen) if you have any questions or concerns.*                                                                                                                                                                                                                                                                                                                                                                                                                                                                                                                 14\n",
       "Your post has been removed because it fits the pattern of a yes or no question (or can be answered in one word). This is one of the most frequent removal reasons and **in our experience, it is usually not wrong.** If you think this post was made in error (this is a bot, after all), message the mods and include a link to your post and your reasoning on why it should be approved.\\r\\n\\r\\n*I am a bot, and this action was performed automatically. Please [contact the moderators of this subreddit](/message/compose/?to=/r/AskMen) if you have any questions or concerns.*                                                                                                                                                                                                                                                                                                                                                                                                                                                                                                          13\n",
       "**Your post has not been removed, this is just FYI.** AskMen does not moderate for the [Serious] tag like AskReddit. If you are concerned about your question not being taken seriously, you may want to consider removing it and rewording it.\\r\\n\\r\\n*I am a bot, and this action was performed automatically. Please [contact the moderators of this subreddit](/message/compose/?to=/r/AskMen) if you have any questions or concerns.*                                                                                                                                                                                                                                                                                                                                                                                                                                                                                                                                                                                                                                                       11\n",
       "Your post has been flagged as a commonly asked topic here. [Please read our FAQ on this topic for our advice on this topic](http://www.reddit.com/r/AskMen/comments/1w0ay2/faq_friday_how_do_i_get_over_someone/). **If you think this action was made in error, [message our moderators](http://www.reddit.com/message/compose?to=%2Fr%2FAskMen) with a link to the post for approval.**\\r\\n\\r\\n*I am a bot, and this action was performed automatically. Please [contact the moderators of this subreddit](/message/compose/?to=/r/AskMen) if you have any questions or concerns.*                                                                                                                                                                                                                                                                                                                                                                                                                                                                                                             10\n",
       "Your post has been removed because it's a frequently asked question. \\r\\n\\r\\nPlease check our [**FAQ section**](http://www.reddit.com/r/AskMen/wiki/index) OR use the search feature to find similar threads. \\r\\n\\r\\nThanks.                                                                                                                                                                                                                                                                                                                                                                                                                                                                                                                                                                                                                                                                                                                                                                                                                                                                     9\n",
       "Your question has been removed because we do not allow these types of posts. Also check that your title is a complete, ACTUAL QUESTION that can't be answered with a yes or no.  Even if you suspect this message is in error, chances are if you triggered this filter, your post still violates one of our rules. **READ THE SIDEBAR** and please see [THIS POST](https://redd.it/41pzm2) for more information.\\r\\n\\r\\n*I am a bot, and this action was performed automatically. Please [contact the moderators of this subreddit](/message/compose/?to=/r/AskMen) if you have any questions or concerns.*                                                                                                                                                                                                                                                                                                                                                                                                                                                                                      8\n",
       "Yes                                                                                                                                                                                                                                                                                                                                                                                                                                                                                                                                                                                                                                                                                                                                                                                                                                                                                                                                                                                                                                                                                               8\n",
       "Your question has been removed because we do not allow these types of posts. Even if you suspect this message is in error, chances are if you triggered this filter, your post still violates one of our rules. **READ THE SIDEBAR** and please see [THIS POST](https://redd.it/41pzm2) for more information.\\r\\n\\r\\n*I am a bot, and this action was performed automatically. Please [contact the moderators of this subreddit](/message/compose/?to=/r/AskMen) if you have any questions or concerns.*                                                                                                                                                                                                                                                                                                                                                                                                                                                                                                                                                                                          7\n",
       "Never.                                                                                                                                                                                                                                                                                                                                                                                                                                                                                                                                                                                                                                                                                                                                                                                                                                                                                                                                                                                                                                                                                            7\n",
       "Nope.                                                                                                                                                                                                                                                                                                                                                                                                                                                                                                                                                                                                                                                                                                                                                                                                                                                                                                                                                                                                                                                                                             7\n",
       "Not me, a friend of mine. He recognizes that Japanese cars are better but he still buys GMC, even though his previous one brought him lots of trouble                                                                                                                                                                                                                                                                                                                                                                                                                                                                                                                                                                                                                                                                                                                                                                                                                                                                                                                                             6\n",
       "A car.                                                                                                                                                                                                                                                                                                                                                                                                                                                                                                                                                                                                                                                                                                                                                                                                                                                                                                                                                                                                                                                                                            6\n",
       "Yes.                                                                                                                                                                                                                                                                                                                                                                                                                                                                                                                                                                                                                                                                                                                                                                                                                                                                                                                                                                                                                                                                                              6\n",
       "Nope                                                                                                                                                                                                                                                                                                                                                                                                                                                                                                                                                                                                                                                                                                                                                                                                                                                                                                                                                                                                                                                                                              6\n",
       "Exercise is probably the closest thing the human body has to a 'cure all.' Immune system health, mental health, physical strength, cardiovascular systems, muscle growth, are all benefited by exercise.                                                                                                                                                                                                                                                                                                                                                                                                                                                                                                                                                                                                                                                                                                                                                                                                                                                                                          6\n",
       "Money                                                                                                                                                                                                                                                                                                                                                                                                                                                                                                                                                                                                                                                                                                                                                                                                                                                                                                                                                                                                                                                                                             6\n",
       "It's happened to me once. First time anyone actively pursued me, was one hell of an ego boost at the time. Just politely said Im straight, offered to grab the next round and kept on chatting to the guy because he was interesting to talk to.                                                                                                                                                                                                                                                                                                                                                                                                                                                                                                                                                                                                                                                                                                                                                                                                                                                  6\n",
       "No                                                                                                                                                                                                                                                                                                                                                                                                                                                                                                                                                                                                                                                                                                                                                                                                                                                                                                                                                                                                                                                                                                5\n",
       "Never                                                                                                                                                                                                                                                                                                                                                                                                                                                                                                                                                                                                                                                                                                                                                                                                                                                                                                                                                                                                                                                                                             5\n",
       "None                                                                                                                                                                                                                                                                                                                                                                                                                                                                                                                                                                                                                                                                                                                                                                                                                                                                                                                                                                                                                                                                                              5\n",
       "FAQ                                                                                                                                                                                                                                                                                                                                                                                                                                                                                                                                                                                                                                                                                                                                                                                                                                                                                                                                                                                                                                                                                               5\n",
       "\\[removed\\]                                                                                                                                                                                                                                                                                                                                                                                                                                                                                                                                                                                                                                                                                                                                                                                                                                                                                                                                                                                                                                                                                       5\n",
       "No.                                                                                                                                                                                                                                                                                                                                                                                                                                                                                                                                                                                                                                                                                                                                                                                                                                                                                                                                                                                                                                                                                               5\n",
       "Never.                                                                                                                                                                                                                                                                                                                                                                                                                                                                                                                                                                                                                                                                                                                                                                                                                                                                                                                                                                                                                                                                                            5\n",
       "1993 Mazda Miata                                                                                                                                                                                                                                                                                                                                                                                                                                                                                                                                                                                                                                                                                                                                                                                                                                                                                                                                                                                                                                                                                  4\n",
       "When does someone becomes your gf/bf? Because from what ive seen on reddit, people start making out and somewhere in the middle they realize \"oh shes/he my gf/bf\". Dont you, like, propose ot make it offical somehow?                                                                                                                                                                                                                                                                                                                                                                                                                                                                                                                                                                                                                                                                                                                                                                                                                                                                           4\n",
       "No problem                                                                                                                                                                                                                                                                                                                                                                                                                                                                                                                                                                                                                                                                                                                                                                                                                                                                                                                                                                                                                                                                                        4\n",
       "I slept with this one girl who also was bisexual so we had a three way once and when I was hooking up with the new girl, my old chick literally got up from a drunk sleep at 3am and started sleep-jogging in place next to the bed.                                                                                                                                                                                                                                                                                                                                                                                                                                                                                                                                                                                                                                                                                                                                                                                                                                                              4\n",
       "We ask them politely, but firmly, to leave.                                                                                                                                                                                                                                                                                                                                                                                                                                                                                                                                                                                                                                                                                                                                                                                                                                                                                                                                                                                                                                                       4\n",
       "Name: body, dtype: int64"
      ]
     },
     "execution_count": 284,
     "metadata": {},
     "output_type": "execute_result"
    }
   ],
   "source": [
    "comments['body'].value_counts()[0:45]"
   ]
  },
  {
   "cell_type": "code",
   "execution_count": 285,
   "metadata": {},
   "outputs": [],
   "source": [
    "comments.dropna(inplace=True)"
   ]
  },
  {
   "cell_type": "code",
   "execution_count": 286,
   "metadata": {},
   "outputs": [],
   "source": [
    "comments['body'] = comments['body'].map(lambda x: 0 if 'has been removed' in x else x)"
   ]
  },
  {
   "cell_type": "code",
   "execution_count": 287,
   "metadata": {},
   "outputs": [],
   "source": [
    "comments = comments[comments['body']!=0]"
   ]
  },
  {
   "cell_type": "code",
   "execution_count": 289,
   "metadata": {},
   "outputs": [],
   "source": [
    "comments['body'] = comments['body'].map(lambda x: 0 if 'AskMen' in x else x)"
   ]
  },
  {
   "cell_type": "code",
   "execution_count": 290,
   "metadata": {},
   "outputs": [],
   "source": [
    "comments = comments[comments['body']!=0]"
   ]
  },
  {
   "cell_type": "code",
   "execution_count": 292,
   "metadata": {},
   "outputs": [],
   "source": [
    "comments = comments[comments['body']!='[deleted]']"
   ]
  },
  {
   "cell_type": "code",
   "execution_count": 293,
   "metadata": {},
   "outputs": [
    {
     "data": {
      "text/plain": [
       "Yes                                                                                                                                                                                                                                                                                                                                                                                                                             8\n",
       "Never.                                                                                                                                                                                                                                                                                                                                                                                                                          7\n",
       "Nope.                                                                                                                                                                                                                                                                                                                                                                                                                           7\n",
       "Not me, a friend of mine. He recognizes that Japanese cars are better but he still buys GMC, even though his previous one brought him lots of trouble                                                                                                                                                                                                                                                                           6\n",
       "Yes.                                                                                                                                                                                                                                                                                                                                                                                                                            6\n",
       "Nope                                                                                                                                                                                                                                                                                                                                                                                                                            6\n",
       "Money                                                                                                                                                                                                                                                                                                                                                                                                                           6\n",
       "Exercise is probably the closest thing the human body has to a 'cure all.' Immune system health, mental health, physical strength, cardiovascular systems, muscle growth, are all benefited by exercise.                                                                                                                                                                                                                        6\n",
       "It's happened to me once. First time anyone actively pursued me, was one hell of an ego boost at the time. Just politely said Im straight, offered to grab the next round and kept on chatting to the guy because he was interesting to talk to.                                                                                                                                                                                6\n",
       "A car.                                                                                                                                                                                                                                                                                                                                                                                                                          6\n",
       "Never                                                                                                                                                                                                                                                                                                                                                                                                                           5\n",
       "\\[removed\\]                                                                                                                                                                                                                                                                                                                                                                                                                     5\n",
       "FAQ                                                                                                                                                                                                                                                                                                                                                                                                                             5\n",
       "No.                                                                                                                                                                                                                                                                                                                                                                                                                             5\n",
       "None                                                                                                                                                                                                                                                                                                                                                                                                                            5\n",
       "No                                                                                                                                                                                                                                                                                                                                                                                                                              5\n",
       "Never.                                                                                                                                                                                                                                                                                                                                                                                                                          5\n",
       "We ask them politely, but firmly, to leave.                                                                                                                                                                                                                                                                                                                                                                                     4\n",
       "Nothing.                                                                                                                                                                                                                                                                                                                                                                                                                        4\n",
       "Reuben.                                                                                                                                                                                                                                                                                                                                                                                                                         4\n",
       "1993 Mazda Miata                                                                                                                                                                                                                                                                                                                                                                                                                4\n",
       "\"The only variable you can control is yourself\"\\r\\n\\r\\n\"Expectations lead to disappointment\" // \"Anger is the reaction to not having your expectations go your way\"\\r\\n\\r\\n\"It's only awkward if you make it awkward\"                                                                                                                                                                                                           4\n",
       "I like to draw puppies using bullets in most FPS games I play                                                                                                                                                                                                                                                                                                                                                                   4\n",
       "I think they really care about making a difference. Better than sitting on Internet bitching about it IMO.                                                                                                                                                                                                                                                                                                                      4\n",
       "no                                                                                                                                                                                                                                                                                                                                                                                                                              4\n",
       "Tinder                                                                                                                                                                                                                                                                                                                                                                                                                          4\n",
       "Turn off? Hell-no! Its a turn on!                                                                                                                                                                                                                                                                                                                                                                                               4\n",
       "You probably won’t catch guys staring at your ass, because we quickly dart our eyes away, not our whole head. \\r\\n\\r\\nBut if you want to see it in action, look at a hot girl walk by some guys and watch how they all casually look in the direction she’s walking before she passes, and they only use their eyes.                                                                                                            4\n",
       "No problem                                                                                                                                                                                                                                                                                                                                                                                                                      4\n",
       "OP's mom                                                                                                                                                                                                                                                                                                                                                                                                                        4\n",
       "Mike Rowe                                                                                                                                                                                                                                                                                                                                                                                                                       4\n",
       "I slept with this one girl who also was bisexual so we had a three way once and when I was hooking up with the new girl, my old chick literally got up from a drunk sleep at 3am and started sleep-jogging in place next to the bed.                                                                                                                                                                                            4\n",
       "&gt;Pussy Juice\\r\\n\\r\\nWonder if it goes well with a balanced breakfast..                                                                                                                                                                                                                                                                                                                                                       4\n",
       "Get psychiatric help now. These outbursts aren't just from stress or cheap alcohol. You need help and without it things will bad for a long fucking time before they start to get better                                                                                                                                                                                                                                        4\n",
       "Yes please.                                                                                                                                                                                                                                                                                                                                                                                                                     4\n",
       "Grab his butt, constantly, until he begs you to stop. Never let go.                                                                                                                                                                                                                                                                                                                                                             4\n",
       "I think sexual abuse should definitely be stigmatized.                                                                                                                                                                                                                                                                                                                                                                          4\n",
       "good on you for keeping clean. ;)  less is more.                                                                                                                                                                                                                                                                                                                                                                                4\n",
       "I was assistant manager for a fabric store for a year, with an all-female crew. Pretty much any decision I made could be undercut by them simply deciding as a group they didn't want to follow it or that I was being sexist. I eventually lost that job one day when everyone abandoned me to a very difficult customer and wouldn't give me any help at all then claimed I was rude to the customer to the store manager.    4\n",
       "When does someone becomes your gf/bf? Because from what ive seen on reddit, people start making out and somewhere in the middle they realize \"oh shes/he my gf/bf\". Dont you, like, propose ot make it offical somehow?                                                                                                                                                                                                         4\n",
       "Act like an adult and fucking talk to him.                                                                                                                                                                                                                                                                                                                                                                                      4\n",
       "I don't.                                                                                                                                                                                                                                                                                                                                                                                                                        3\n",
       "Lol                                                                                                                                                                                                                                                                                                                                                                                                                             3\n",
       "Not at all.                                                                                                                                                                                                                                                                                                                                                                                                                     3\n",
       "It sounds like you are doing a great job already. Like you, my mom did the best she could. One thing that I a think made a big difference for me was a handful of relationships with strong male role-models over the years. My mom found them for me through Boy Scouts, sports coaches, a teacher, and eventually my best friend's dad, who I still consider to be a father-figure to this day.                               3\n",
       "Name: body, dtype: int64"
      ]
     },
     "execution_count": 293,
     "metadata": {},
     "output_type": "execute_result"
    }
   ],
   "source": [
    "comments['body'].value_counts()[0:45]"
   ]
  },
  {
   "cell_type": "code",
   "execution_count": 307,
   "metadata": {},
   "outputs": [],
   "source": [
    "comments.to_csv('askmen_cleaned')"
   ]
  },
  {
   "cell_type": "markdown",
   "metadata": {},
   "source": [
    "### Final Cleaning"
   ]
  },
  {
   "cell_type": "code",
   "execution_count": 308,
   "metadata": {},
   "outputs": [],
   "source": [
    "commentsm = pd.read_csv('askmen_cleaned')\n",
    "commentsw = pd.read_csv('askwomen_cleaned')"
   ]
  },
  {
   "cell_type": "markdown",
   "metadata": {},
   "source": [
    "One thing I want to do is remove any duplicates in the id column, as this represents the same comment being gathered more than once."
   ]
  },
  {
   "cell_type": "code",
   "execution_count": 310,
   "metadata": {},
   "outputs": [
    {
     "data": {
      "text/plain": [
       "33395"
      ]
     },
     "execution_count": 310,
     "metadata": {},
     "output_type": "execute_result"
    }
   ],
   "source": [
    "len(commentsm.drop_duplicates('id'))"
   ]
  },
  {
   "cell_type": "code",
   "execution_count": 311,
   "metadata": {},
   "outputs": [
    {
     "data": {
      "text/plain": [
       "38410"
      ]
     },
     "execution_count": 311,
     "metadata": {},
     "output_type": "execute_result"
    }
   ],
   "source": [
    "len(commentsw.drop_duplicates('id'))"
   ]
  },
  {
   "cell_type": "code",
   "execution_count": 312,
   "metadata": {},
   "outputs": [],
   "source": [
    "commentsm.drop_duplicates('id',inplace=True)"
   ]
  },
  {
   "cell_type": "code",
   "execution_count": 313,
   "metadata": {},
   "outputs": [],
   "source": [
    "commentsw.drop_duplicates('id',inplace=True)"
   ]
  },
  {
   "cell_type": "code",
   "execution_count": 318,
   "metadata": {},
   "outputs": [],
   "source": [
    "commentsm = commentsm[commentsm['body']!='\\\\[removed\\]']"
   ]
  },
  {
   "cell_type": "code",
   "execution_count": 320,
   "metadata": {},
   "outputs": [],
   "source": [
    "commentsw = commentsw[commentsw['body']!='Please feel free to respond based on the genders that you find attractive. This question is not limited to women who date men.']"
   ]
  },
  {
   "cell_type": "code",
   "execution_count": 321,
   "metadata": {},
   "outputs": [],
   "source": [
    "commentsm.to_csv('askmen_cleaned')"
   ]
  },
  {
   "cell_type": "code",
   "execution_count": 322,
   "metadata": {},
   "outputs": [],
   "source": [
    "commentsw.to_csv('askwomen_cleaned')"
   ]
  }
 ],
 "metadata": {
  "kernelspec": {
   "display_name": "Python 3",
   "language": "python",
   "name": "python3"
  },
  "language_info": {
   "codemirror_mode": {
    "name": "ipython",
    "version": 3
   },
   "file_extension": ".py",
   "mimetype": "text/x-python",
   "name": "python",
   "nbconvert_exporter": "python",
   "pygments_lexer": "ipython3",
   "version": "3.6.5"
  }
 },
 "nbformat": 4,
 "nbformat_minor": 2
}
